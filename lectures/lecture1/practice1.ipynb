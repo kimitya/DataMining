{
 "cells": [
  {
   "cell_type": "code",
   "execution_count": 7,
   "id": "f16097a4-e299-4398-b71f-c46cdfbf7193",
   "metadata": {},
   "outputs": [
    {
     "data": {
      "text/html": [
       "<div>\n",
       "<style scoped>\n",
       "    .dataframe tbody tr th:only-of-type {\n",
       "        vertical-align: middle;\n",
       "    }\n",
       "\n",
       "    .dataframe tbody tr th {\n",
       "        vertical-align: top;\n",
       "    }\n",
       "\n",
       "    .dataframe thead th {\n",
       "        text-align: right;\n",
       "    }\n",
       "</style>\n",
       "<table border=\"1\" class=\"dataframe\">\n",
       "  <thead>\n",
       "    <tr style=\"text-align: right;\">\n",
       "      <th></th>\n",
       "      <th>gender</th>\n",
       "      <th>age</th>\n",
       "      <th>university</th>\n",
       "      <th>degree_level</th>\n",
       "      <th>degree_major</th>\n",
       "      <th>academic_year</th>\n",
       "      <th>cgpa</th>\n",
       "      <th>residential_status</th>\n",
       "      <th>campus_discrimination</th>\n",
       "      <th>sports_engagement</th>\n",
       "      <th>...</th>\n",
       "      <th>study_satisfaction</th>\n",
       "      <th>academic_workload</th>\n",
       "      <th>academic_pressure</th>\n",
       "      <th>financial_concerns</th>\n",
       "      <th>social_relationships</th>\n",
       "      <th>depression</th>\n",
       "      <th>anxiety</th>\n",
       "      <th>isolation</th>\n",
       "      <th>future_insecurity</th>\n",
       "      <th>stress_relief_activities</th>\n",
       "    </tr>\n",
       "  </thead>\n",
       "  <tbody>\n",
       "    <tr>\n",
       "      <th>0</th>\n",
       "      <td>Male</td>\n",
       "      <td>20</td>\n",
       "      <td>PU</td>\n",
       "      <td>Undergraduate</td>\n",
       "      <td>Data Science</td>\n",
       "      <td>2nd year</td>\n",
       "      <td>3.0-3.5</td>\n",
       "      <td>Off-Campus</td>\n",
       "      <td>No</td>\n",
       "      <td>No Sports</td>\n",
       "      <td>...</td>\n",
       "      <td>5</td>\n",
       "      <td>4</td>\n",
       "      <td>5</td>\n",
       "      <td>4</td>\n",
       "      <td>3</td>\n",
       "      <td>2</td>\n",
       "      <td>1</td>\n",
       "      <td>1</td>\n",
       "      <td>2</td>\n",
       "      <td>Religious Activities, Social Connections, Onli...</td>\n",
       "    </tr>\n",
       "    <tr>\n",
       "      <th>1</th>\n",
       "      <td>Male</td>\n",
       "      <td>20</td>\n",
       "      <td>UET</td>\n",
       "      <td>Postgraduate</td>\n",
       "      <td>Computer Science</td>\n",
       "      <td>3rd year</td>\n",
       "      <td>3.0-3.5</td>\n",
       "      <td>Off-Campus</td>\n",
       "      <td>No</td>\n",
       "      <td>1-3 times</td>\n",
       "      <td>...</td>\n",
       "      <td>5</td>\n",
       "      <td>4</td>\n",
       "      <td>4</td>\n",
       "      <td>1</td>\n",
       "      <td>3</td>\n",
       "      <td>3</td>\n",
       "      <td>3</td>\n",
       "      <td>3</td>\n",
       "      <td>4</td>\n",
       "      <td>Online Entertainment</td>\n",
       "    </tr>\n",
       "    <tr>\n",
       "      <th>2</th>\n",
       "      <td>Male</td>\n",
       "      <td>20</td>\n",
       "      <td>FAST</td>\n",
       "      <td>Undergraduate</td>\n",
       "      <td>Computer Science</td>\n",
       "      <td>3rd year</td>\n",
       "      <td>2.5-3.0</td>\n",
       "      <td>Off-Campus</td>\n",
       "      <td>No</td>\n",
       "      <td>1-3 times</td>\n",
       "      <td>...</td>\n",
       "      <td>5</td>\n",
       "      <td>5</td>\n",
       "      <td>5</td>\n",
       "      <td>3</td>\n",
       "      <td>4</td>\n",
       "      <td>2</td>\n",
       "      <td>3</td>\n",
       "      <td>3</td>\n",
       "      <td>1</td>\n",
       "      <td>Religious Activities, Sports and Fitness, Onli...</td>\n",
       "    </tr>\n",
       "    <tr>\n",
       "      <th>3</th>\n",
       "      <td>Male</td>\n",
       "      <td>20</td>\n",
       "      <td>UET</td>\n",
       "      <td>Undergraduate</td>\n",
       "      <td>Computer Science</td>\n",
       "      <td>3rd year</td>\n",
       "      <td>2.5-3.0</td>\n",
       "      <td>On-Campus</td>\n",
       "      <td>No</td>\n",
       "      <td>No Sports</td>\n",
       "      <td>...</td>\n",
       "      <td>3</td>\n",
       "      <td>5</td>\n",
       "      <td>4</td>\n",
       "      <td>4</td>\n",
       "      <td>1</td>\n",
       "      <td>5</td>\n",
       "      <td>5</td>\n",
       "      <td>5</td>\n",
       "      <td>3</td>\n",
       "      <td>Online Entertainment</td>\n",
       "    </tr>\n",
       "    <tr>\n",
       "      <th>4</th>\n",
       "      <td>Female</td>\n",
       "      <td>20</td>\n",
       "      <td>UET</td>\n",
       "      <td>Undergraduate</td>\n",
       "      <td>Computer Science</td>\n",
       "      <td>3rd year</td>\n",
       "      <td>3.0-3.5</td>\n",
       "      <td>Off-Campus</td>\n",
       "      <td>Yes</td>\n",
       "      <td>No Sports</td>\n",
       "      <td>...</td>\n",
       "      <td>3</td>\n",
       "      <td>5</td>\n",
       "      <td>5</td>\n",
       "      <td>2</td>\n",
       "      <td>3</td>\n",
       "      <td>5</td>\n",
       "      <td>5</td>\n",
       "      <td>4</td>\n",
       "      <td>4</td>\n",
       "      <td>Online Entertainment</td>\n",
       "    </tr>\n",
       "  </tbody>\n",
       "</table>\n",
       "<p>5 rows × 21 columns</p>\n",
       "</div>"
      ],
      "text/plain": [
       "   gender  age university   degree_level      degree_major academic_year  \\\n",
       "0    Male   20         PU  Undergraduate      Data Science      2nd year   \n",
       "1    Male   20        UET   Postgraduate  Computer Science      3rd year   \n",
       "2    Male   20       FAST  Undergraduate  Computer Science      3rd year   \n",
       "3    Male   20        UET  Undergraduate  Computer Science      3rd year   \n",
       "4  Female   20        UET  Undergraduate  Computer Science      3rd year   \n",
       "\n",
       "      cgpa residential_status campus_discrimination sports_engagement  ...  \\\n",
       "0  3.0-3.5         Off-Campus                    No         No Sports  ...   \n",
       "1  3.0-3.5         Off-Campus                    No         1-3 times  ...   \n",
       "2  2.5-3.0         Off-Campus                    No         1-3 times  ...   \n",
       "3  2.5-3.0          On-Campus                    No         No Sports  ...   \n",
       "4  3.0-3.5         Off-Campus                   Yes         No Sports  ...   \n",
       "\n",
       "  study_satisfaction  academic_workload   academic_pressure  \\\n",
       "0                  5                   4                  5   \n",
       "1                  5                   4                  4   \n",
       "2                  5                   5                  5   \n",
       "3                  3                   5                  4   \n",
       "4                  3                   5                  5   \n",
       "\n",
       "   financial_concerns  social_relationships  depression  anxiety  isolation  \\\n",
       "0                   4                     3           2        1          1   \n",
       "1                   1                     3           3        3          3   \n",
       "2                   3                     4           2        3          3   \n",
       "3                   4                     1           5        5          5   \n",
       "4                   2                     3           5        5          4   \n",
       "\n",
       "   future_insecurity                           stress_relief_activities  \n",
       "0                  2  Religious Activities, Social Connections, Onli...  \n",
       "1                  4                               Online Entertainment  \n",
       "2                  1  Religious Activities, Sports and Fitness, Onli...  \n",
       "3                  3                               Online Entertainment  \n",
       "4                  4                               Online Entertainment  \n",
       "\n",
       "[5 rows x 21 columns]"
      ]
     },
     "execution_count": 7,
     "metadata": {},
     "output_type": "execute_result"
    }
   ],
   "source": [
    "import pandas as pd\n",
    "pdDf = pd.read_csv('MentalHealthSurvey.csv')\n",
    "pdDf.head()\n"
   ]
  },
  {
   "cell_type": "code",
   "execution_count": 9,
   "id": "b14f54ce-ff62-47b4-a026-4555fdea937f",
   "metadata": {},
   "outputs": [
    {
     "name": "stdout",
     "output_type": "stream",
     "text": [
      "3.5-4.0\n"
     ]
    }
   ],
   "source": [
    "maxGPA = pdDf['cgpa'].max()\n",
    "print(maxGPA)"
   ]
  },
  {
   "cell_type": "code",
   "execution_count": 13,
   "id": "27169a22-4220-4528-b5e8-c0e02c0a366e",
   "metadata": {},
   "outputs": [
    {
     "name": "stdout",
     "output_type": "stream",
     "text": [
      "    gender     cgpa  depression  anxiety\n",
      "12    Male  3.5-4.0           4        4\n",
      "18  Female  3.5-4.0           4        4\n",
      "19    Male  3.5-4.0           5        5\n",
      "23    Male  3.5-4.0           5        5\n",
      "24  Female  3.5-4.0           3        4\n",
      "29    Male  3.5-4.0           5        3\n",
      "30    Male  3.5-4.0           1        2\n",
      "34  Female  3.5-4.0           5        5\n",
      "35    Male  3.5-4.0           4        3\n",
      "36  Female  3.5-4.0           4        4\n",
      "42    Male  3.5-4.0           3        3\n",
      "43    Male  3.5-4.0           1        1\n",
      "44    Male  3.5-4.0           2        2\n",
      "46    Male  3.5-4.0           5        5\n",
      "47    Male  3.5-4.0           3        3\n",
      "50    Male  3.5-4.0           2        2\n",
      "56    Male  3.5-4.0           4        4\n",
      "58    Male  3.5-4.0           1        1\n",
      "62    Male  3.5-4.0           4        4\n",
      "65    Male  3.5-4.0           4        4\n",
      "67    Male  3.5-4.0           2        2\n",
      "72  Female  3.5-4.0           4        5\n",
      "74    Male  3.5-4.0           1        1\n",
      "75    Male  3.5-4.0           5        5\n",
      "79  Female  3.5-4.0           5        5\n",
      "83  Female  3.5-4.0           5        5\n",
      "86  Female  3.5-4.0           2        2\n"
     ]
    }
   ],
   "source": [
    "top_students = pdDf[pdDf['cgpa'] == maxGPA]\n",
    "print(top_students[['gender', 'cgpa', 'depression', 'anxiety']])"
   ]
  },
  {
   "cell_type": "code",
   "execution_count": 15,
   "id": "19277db2-3595-4cf3-a85d-2194ff3a6a3c",
   "metadata": {},
   "outputs": [],
   "source": [
    "average_anxiety = top_students['anxiety'].mean()"
   ]
  },
  {
   "cell_type": "code",
   "execution_count": 17,
   "id": "ce0b87a4-f704-43c6-ba58-7e1f33505f6f",
   "metadata": {},
   "outputs": [
    {
     "name": "stdout",
     "output_type": "stream",
     "text": [
      "3.4444444444444446\n"
     ]
    }
   ],
   "source": [
    "print(average_anxiety)\n"
   ]
  },
  {
   "cell_type": "markdown",
   "id": "229a45bf-5da4-4cc5-9591-c0fd23dccb63",
   "metadata": {},
   "source": [
    "### Students with higher GPA probably will have some anxiety"
   ]
  },
  {
   "cell_type": "code",
   "execution_count": 19,
   "id": "d57c36cc-ef1d-46ff-a1b4-f9b11fc82758",
   "metadata": {},
   "outputs": [
    {
     "name": "stdout",
     "output_type": "stream",
     "text": [
      "gender                      0\n",
      "age                         0\n",
      "university                  0\n",
      "degree_level                0\n",
      "degree_major                0\n",
      "academic_year               0\n",
      "cgpa                        0\n",
      "residential_status          0\n",
      "campus_discrimination       0\n",
      "sports_engagement           0\n",
      "average_sleep               0\n",
      "study_satisfaction          0\n",
      "academic_workload           0\n",
      "academic_pressure           0\n",
      "financial_concerns          0\n",
      "social_relationships        0\n",
      "depression                  0\n",
      "anxiety                     0\n",
      "isolation                   0\n",
      "future_insecurity           0\n",
      "stress_relief_activities    0\n",
      "dtype: int64\n"
     ]
    }
   ],
   "source": [
    "print(pdDf.isnull().sum())"
   ]
  },
  {
   "cell_type": "code",
   "execution_count": null,
   "id": "b51ea442-af63-4d8f-9657-6ed9b93e305d",
   "metadata": {},
   "outputs": [],
   "source": [
    "### No missing values"
   ]
  },
  {
   "cell_type": "code",
   "execution_count": 21,
   "id": "c8cd4d70-44fc-4c16-80cd-12ceb1cd3893",
   "metadata": {},
   "outputs": [
    {
     "name": "stderr",
     "output_type": "stream",
     "text": [
      "Matplotlib is building the font cache; this may take a moment.\n"
     ]
    }
   ],
   "source": [
    "import matplotlib.pyplot as plt"
   ]
  },
  {
   "cell_type": "code",
   "execution_count": 29,
   "id": "f15b5e7c-5181-417e-a91f-7cbbdcdfb253",
   "metadata": {},
   "outputs": [
    {
     "data": {
      "image/png": "[encoded data removed]",
      "text/plain": [
       "<Figure size 640x480 with 1 Axes>"
      ]
     },
     "metadata": {},
     "output_type": "display_data"
    }
   ],
   "source": [
    "gpa_depression = pdDf.groupby('cgpa')['depression'].mean().reset_index()\n",
    "\n",
    "ax = gpa_depression.plot(x='cgpa', y='depression', kind='line', marker='o', title='Dependency of GPA and Depression')\n",
    "\n",
    "ax.set_ylabel('Average Depression Level')\n",
    "ax.set_xlabel('GPA')\n",
    "ax.grid(True)\n",
    "\n",
    "plt.show()"
   ]
  },
  {
   "cell_type": "code",
   "execution_count": null,
   "id": "07558d16-6d0e-430d-9f96-5a5cd11b1ca1",
   "metadata": {},
   "outputs": [],
   "source": []
  }
 ],
 "metadata": {
  "kernelspec": {
   "display_name": "anaconda-panel-2023.05-py310",
   "language": "python",
   "name": "conda-env-anaconda-panel-2023.05-py310-py"
  },
  "language_info": {
   "codemirror_mode": {
    "name": "ipython",
    "version": 3
   },
   "file_extension": ".py",
   "mimetype": "text/x-python",
   "name": "python",
   "nbconvert_exporter": "python",
   "pygments_lexer": "ipython3",
   "version": "3.11.5"
  }
 },
 "nbformat": 4,
 "nbformat_minor": 5
}
